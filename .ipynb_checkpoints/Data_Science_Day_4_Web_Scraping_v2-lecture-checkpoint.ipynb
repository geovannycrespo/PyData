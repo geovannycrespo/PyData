{
 "cells": [
  {
   "cell_type": "markdown",
   "metadata": {},
   "source": [
    "# Data Science - Web Scraping"
   ]
  },
  {
   "cell_type": "markdown",
   "metadata": {},
   "source": [
    "## Tasks Today:\n",
    "\n",
    "1) <b>Requests</b> <br>\n",
    " &nbsp;&nbsp;&nbsp;&nbsp; a) Importing <br>\n",
    " &nbsp;&nbsp;&nbsp;&nbsp; b) Using Requests <br>\n",
    "2) <b>Beautiful Soup</b> <br>\n",
    " &nbsp;&nbsp;&nbsp;&nbsp; a) Importing <br>\n",
    " &nbsp;&nbsp;&nbsp;&nbsp; b) Using Beautiful Soup <br>\n",
    " &nbsp;&nbsp;&nbsp;&nbsp; c) .prettify() <br>\n",
    " &nbsp;&nbsp;&nbsp;&nbsp; d) Converting to a List <br>\n",
    " &nbsp;&nbsp;&nbsp;&nbsp; e) Extracting Beautiful Soup Elements <br>\n",
    " &nbsp;&nbsp;&nbsp;&nbsp; f) Assigning Variables from Beautiful Soup <br>\n",
    " &nbsp;&nbsp;&nbsp;&nbsp; g) .find() <br>\n",
    " &nbsp;&nbsp;&nbsp;&nbsp; h) .find_all() <br>\n",
    "3) <b>Exercise</b> <br>"
   ]
  },
  {
   "cell_type": "markdown",
   "metadata": {},
   "source": [
    "## Requests"
   ]
  },
  {
   "cell_type": "markdown",
   "metadata": {},
   "source": [
    "### Importing"
   ]
  },
  {
   "cell_type": "code",
   "execution_count": 1,
   "metadata": {},
   "outputs": [],
   "source": [
    "import requests"
   ]
  },
  {
   "cell_type": "markdown",
   "metadata": {},
   "source": [
    "### Using Requests"
   ]
  },
  {
   "cell_type": "code",
   "execution_count": 2,
   "metadata": {},
   "outputs": [],
   "source": [
    "page = requests.get('http://www.arthurleej.com/e-love.html')"
   ]
  },
  {
   "cell_type": "code",
   "execution_count": 3,
   "metadata": {},
   "outputs": [
    {
     "data": {
      "text/plain": [
       "<Response [200]>"
      ]
     },
     "execution_count": 3,
     "metadata": {},
     "output_type": "execute_result"
    }
   ],
   "source": [
    "# display result response\n",
    "page"
   ]
  },
  {
   "cell_type": "markdown",
   "metadata": {},
   "source": [
    "##### .content()"
   ]
  },
  {
   "cell_type": "code",
   "execution_count": null,
   "metadata": {},
   "outputs": [],
   "source": [
    "page.content"
   ]
  },
  {
   "cell_type": "markdown",
   "metadata": {},
   "source": [
    "## Beautiful Soup"
   ]
  },
  {
   "cell_type": "markdown",
   "metadata": {},
   "source": [
    "### Importing"
   ]
  },
  {
   "cell_type": "code",
   "execution_count": null,
   "metadata": {},
   "outputs": [],
   "source": [
    "from bs4 import BeautifulSoup"
   ]
  },
  {
   "cell_type": "markdown",
   "metadata": {},
   "source": [
    "### Using Beautiful Soup"
   ]
  },
  {
   "cell_type": "code",
   "execution_count": null,
   "metadata": {},
   "outputs": [],
   "source": [
    "soup = BeautifulSoup(page.content, 'html.parser')\n",
    "soup"
   ]
  },
  {
   "cell_type": "markdown",
   "metadata": {},
   "source": [
    "### .prettify()"
   ]
  },
  {
   "cell_type": "code",
   "execution_count": null,
   "metadata": {},
   "outputs": [],
   "source": [
    " #NOTE: Prettify only works for the full document and the .find() method\n",
    "print(soup.prettify())"
   ]
  },
  {
   "cell_type": "markdown",
   "metadata": {},
   "source": [
    "### Converting to a List"
   ]
  },
  {
   "cell_type": "code",
   "execution_count": null,
   "metadata": {},
   "outputs": [],
   "source": [
    " # Tags may contain strings and other tags. These elements are the tag’s children.\n",
    "print(list(soup.children))\n",
    "\n",
    "html_children = list(soup.children)\n",
    "html_children[3]"
   ]
  },
  {
   "cell_type": "markdown",
   "metadata": {},
   "source": [
    "### Extracting Beautiful Soup Elements"
   ]
  },
  {
   "cell_type": "code",
   "execution_count": null,
   "metadata": {},
   "outputs": [],
   "source": [
    "# We can traverse through an HTML page and extract other tags and text\n",
    "# The below example shows the types of iterables available in the object created from the HTML Document\n",
    "# .Tag allows us to dive deeper into the document i.e we can look for HTML attributes like .class and if needed go deeper into the document from there\n",
    "[type(item) for item in list(soup.children)]"
   ]
  },
  {
   "cell_type": "markdown",
   "metadata": {},
   "source": [
    "### Assinging Variables from Beautiful Soup"
   ]
  },
  {
   "cell_type": "code",
   "execution_count": null,
   "metadata": {},
   "outputs": [],
   "source": [
    "import pprint\n",
    "\n",
    "html = list(soup.children)[2] # Selecting the HTML element child from the soup object\n",
    "body = list(html.children)[3]#Selecting the body from the HTML child\n",
    "center = list(body.children)[4]# Selecting a subset of body\n",
    "table = list(center.children)[0]#Selecting a table from the subset of body\n",
    "\n",
    "print(table)\n",
    "# for element in list(center.children):\n",
    "#     print('\\n\\n')\n",
    "#     print(element)"
   ]
  },
  {
   "cell_type": "markdown",
   "metadata": {},
   "source": [
    "### .find() <br>\n",
    "<p>Find a specific instance of the parameter passed in</p>"
   ]
  },
  {
   "cell_type": "code",
   "execution_count": null,
   "metadata": {},
   "outputs": [],
   "source": [
    "soup.find('b')"
   ]
  },
  {
   "cell_type": "markdown",
   "metadata": {},
   "source": [
    "### .find_all() <br>\n",
    "<p>Similar to .find(), except this will return all of them instead of one</p>"
   ]
  },
  {
   "cell_type": "code",
   "execution_count": null,
   "metadata": {},
   "outputs": [],
   "source": [
    "soup.find_all(['td','b'])"
   ]
  },
  {
   "cell_type": "markdown",
   "metadata": {},
   "source": [
    "## Exercise <br>\n",
    "<p>Using the Beautiful Soup library, grab the data from the following link: https://www.baseball-reference.com/teams/BOS/batteam.shtml. After getting the data, display only the year and batting average for each year (2017: .276). Lastly, plot the data on a preferred matplotlib chart.</p>"
   ]
  },
  {
   "cell_type": "code",
   "execution_count": null,
   "metadata": {},
   "outputs": [],
   "source": [
    "# Hint: Use the .get_text() method\n",
    "\n",
    "import matplotlib.pyplot as plt\n",
    "import numpy as np\n",
    "import collections\n",
    "\n",
    "page = requests.get('https://www.baseball-reference.com/teams/BOS/batteam.shtml')\n",
    "# print(page.status_code)\n",
    "\n",
    "soup = BeautifulSoup(page.content, 'html.parser') # Grab the HTML\n",
    "\n",
    "all_years_ba = soup.find_all('td', attrs={'data-stat': 'batting_avg'})\n",
    "years = soup.find_all('th', attrs = {'data-stat':'year_ID'})\n",
    "\n",
    "\n",
    "years.pop(0)\n",
    "\n",
    "b_avg = {}\n",
    "# Our output will be => {2019: .275}\n",
    "\n",
    "# adding year as key and avg as it's value to b_avg dictionary\n",
    "for index in range(len(all_years_ba)):\n",
    "    year = int(years[index].get_text()) # .get_text() will get the textual data inside of the HTML tags\n",
    "    avg = float(all_years_ba[index].get_text())\n",
    "    b_avg[year] = avg\n",
    "    if index == 20:\n",
    "        break\n",
    "        \n",
    "print(b_avg)\n",
    "\n",
    "b_avg_ordered = collections.OrderedDict(sorted(b_avg.items()))\n",
    "print(b_avg_ordered)"
   ]
  },
  {
   "cell_type": "code",
   "execution_count": null,
   "metadata": {},
   "outputs": [],
   "source": [
    "# MLB averages\n",
    "\n",
    "page2 = requests.get('https://www.baseball-reference.com/leagues/MLB/bat.shtml')\n",
    "# print(page.status_code)\n",
    "\n"
   ]
  },
  {
   "cell_type": "code",
   "execution_count": null,
   "metadata": {},
   "outputs": [],
   "source": [
    "plt.figure(figsize=(20,10))\n",
    "\n",
    "plt.plot([x for x in b_avg.keys()], [y for y in b_avg.values()], 'ro-', label='Boston Red Sox')\n",
    "plt.xlabel('Year')\n",
    "plt.ylabel('Batting Average')\n",
    "plt.legend()\n",
    "plt.title('Year-By-Year Team Batting Average')\n",
    "plt.xticks(np.arange(min([x for x in b_avg.keys()]), max([y for y in b_avg.keys()]) + 1, 2.0))\n",
    "\n",
    "plt.show()"
   ]
  },
  {
   "cell_type": "code",
   "execution_count": null,
   "metadata": {},
   "outputs": [],
   "source": [
    "print(bavg_mlb)"
   ]
  },
  {
   "cell_type": "markdown",
   "metadata": {},
   "source": [
    "# Bonus Example: Pulling Vegas Odds from PFR.com\n",
    "\n",
    "<h3> Use this example for further reference</h3>\n",
    "<p> This is an example that shows what we will get returned back to us when accessing a HTML document with Beautiful Soup</p>"
   ]
  },
  {
   "cell_type": "code",
   "execution_count": null,
   "metadata": {},
   "outputs": [],
   "source": [
    "page = requests.get('https://www.pro-football-reference.com/boxscores/201810140nwe.htm')\n",
    "# print(page.status_code)\n",
    "\n",
    "soup = BeautifulSoup(page.content, 'html.parser')"
   ]
  },
  {
   "cell_type": "code",
   "execution_count": null,
   "metadata": {},
   "outputs": [],
   "source": [
    "print(soup.prettify())"
   ]
  },
  {
   "cell_type": "code",
   "execution_count": null,
   "metadata": {},
   "outputs": [],
   "source": [
    "for section in list(soup.children):\n",
    "    print(section)\n",
    "    print('1\\n2\\n3\\n')"
   ]
  },
  {
   "cell_type": "code",
   "execution_count": null,
   "metadata": {},
   "outputs": [],
   "source": [
    "html = list(soup.children)[3]\n",
    "\n",
    "html"
   ]
  },
  {
   "cell_type": "code",
   "execution_count": null,
   "metadata": {},
   "outputs": [],
   "source": [
    "body = list(html.children)[3]\n",
    "\n",
    "for el in list(body.children):\n",
    "    print(el)\n",
    "    print('\\n\\n\\n\\n123\\n\\n\\n\\n')"
   ]
  },
  {
   "cell_type": "code",
   "execution_count": null,
   "metadata": {},
   "outputs": [],
   "source": [
    "table = body.find_all('div')\n",
    "\n",
    "print(table)"
   ]
  },
  {
   "cell_type": "code",
   "execution_count": null,
   "metadata": {},
   "outputs": [],
   "source": [
    "from bs4 import Comment\n",
    "\n",
    "comments=soup.find_all(string=lambda text:isinstance(text,Comment))\n",
    "\n",
    "for comment in comments:\n",
    "    comment=BeautifulSoup(str(comment))\n",
    "    log = comment.find('table', {'id':'game_info'}) #search as ordinary tag\n",
    "    if log:\n",
    "        print(log)"
   ]
  }
 ],
 "metadata": {
  "kernelspec": {
   "display_name": "Python 3",
   "language": "python",
   "name": "python3"
  },
  "language_info": {
   "codemirror_mode": {
    "name": "ipython",
    "version": 3
   },
   "file_extension": ".py",
   "mimetype": "text/x-python",
   "name": "python",
   "nbconvert_exporter": "python",
   "pygments_lexer": "ipython3",
   "version": "3.7.4"
  }
 },
 "nbformat": 4,
 "nbformat_minor": 2
}
